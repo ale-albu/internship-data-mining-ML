{
 "cells": [
  {
   "cell_type": "markdown",
   "metadata": {},
   "source": [
    "### Linear Regression"
   ]
  },
  {
   "cell_type": "markdown",
   "metadata": {},
   "source": [
    "Implementation of Ordinary Least Squares for Linear Regression"
   ]
  },
  {
   "cell_type": "code",
   "execution_count": 1,
   "metadata": {
    "collapsed": true
   },
   "outputs": [],
   "source": [
    "import sklearn.datasets\n",
    "import itertools\n",
    "import numpy as np\n",
    "import matplotlib.pyplot as plt\n",
    "import matplotlib.patches as mp\n",
    "import time\n",
    "from sklearn.model_selection import train_test_split\n",
    "\n",
    "MAX = 9999999"
   ]
  },
  {
   "cell_type": "code",
   "execution_count": 2,
   "metadata": {
    "collapsed": true
   },
   "outputs": [],
   "source": [
    "def ordinary_least_squares(X, y):\n",
    "    return np.dot(np.dot(np.linalg.inv(np.dot(X.T, X)), X.T), y)"
   ]
  },
  {
   "cell_type": "code",
   "execution_count": 3,
   "metadata": {},
   "outputs": [],
   "source": [
    "def find_subsets(S, m):\n",
    "    return list(itertools.combinations(S, m))\n",
    "\n",
    "\n",
    "def rss(X, y):\n",
    "    X = np.insert(X, 0, 1, axis=1)\n",
    "    beta = ordinary_least_squares(X, y)\n",
    "    return np.dot((np.dot(X, beta) - y).T, np.dot(X, beta) - y)\n",
    "\n",
    "\n",
    "def best_subset_selection(X, y, c='b'):\n",
    "    points = []\n",
    "    nr_features = X.shape[1]\n",
    "\n",
    "    for i in range(1, nr_features + 1):\n",
    "        best_i = min([rss(X[:, column_idx], y) for column_idx in find_subsets(range(nr_features), i)])\n",
    "        points.append(best_i)\n",
    "\n",
    "    best = min(points)\n",
    "    plt.plot(list(range(1, nr_features + 1)), points, marker='o', color=c, linestyle='-')\n",
    "\n",
    "    return best"
   ]
  },
  {
   "cell_type": "markdown",
   "metadata": {},
   "source": [
    "Implementation of subset selection using a greedy method"
   ]
  },
  {
   "cell_type": "code",
   "execution_count": 4,
   "metadata": {
    "collapsed": true
   },
   "outputs": [],
   "source": [
    "def stepwise_forward_subset(X, y, c='g'):\n",
    "    p = X.shape[1]\n",
    "    best_rss = MAX\n",
    "    best_subset = []\n",
    "    subset = []\n",
    "    points = []\n",
    "\n",
    "    for i in range(1, p + 1):\n",
    "        best_sub_rss = MAX\n",
    "        best_sub_subset = []\n",
    "        best_elem = None\n",
    "        for x in range(0, p):\n",
    "            if x not in subset:\n",
    "                current_rss = rss(X[:, subset + [x]], y)\n",
    "                if best_sub_rss > current_rss:\n",
    "                    best_sub_rss = current_rss\n",
    "                    best_sub_subset = subset + [x]\n",
    "                    best_elem = x\n",
    "        if best_rss > best_sub_rss:\n",
    "            best_rss = best_sub_rss\n",
    "            best_subset = best_sub_subset\n",
    "        subset.append(best_elem)\n",
    "        points.append(best_sub_rss)\n",
    "\n",
    "    plt.plot(list(range(1, p + 1)), points, marker='*', color=c, linestyle='-')\n",
    "    print(\"subset with least rss:\", best_subset)\n",
    "    return best_rss"
   ]
  },
  {
   "cell_type": "markdown",
   "metadata": {
    "collapsed": true
   },
   "source": [
    "Add quadratic features and apply the same methods."
   ]
  },
  {
   "cell_type": "code",
   "execution_count": 5,
   "metadata": {
    "collapsed": true
   },
   "outputs": [],
   "source": [
    "def get_products(X):\n",
    "    res = []\n",
    "    for i, j in find_subsets(range(0, X.shape[1]), 2):\n",
    "        res.append(np.multiply(X[:, [i]], X[:, [j]]))\n",
    "    return res\n",
    "\n",
    "\n",
    "def plot_features():\n",
    "    dataset = sklearn.datasets.load_diabetes()\n",
    "    X = np.array(dataset['data'])\n",
    "    y = np.array(dataset['target'])\n",
    "\n",
    "    start_best_subset = time.time()\n",
    "    print(best_subset_selection(X, y))\n",
    "    print(\"running time: \", time.time()-start_best_subset)\n",
    "\n",
    "    start_stepwise = time.time()\n",
    "    print(stepwise_forward_subset(X, y))\n",
    "    print(\"running time: \", time.time() - start_stepwise)\n",
    "\n",
    "    start_quadr = time.time()\n",
    "    l = get_products(X)\n",
    "    for l1 in l:\n",
    "        X = np.hstack((X, np.array(l1)))\n",
    "\n",
    "    print(stepwise_forward_subset(X, y, 'r'))\n",
    "    print(\"running time: \", time.time() - start_quadr)\n",
    "\n",
    "    plt.legend(\n",
    "        handles=[\n",
    "            mp.Patch(color='green', label='Stepwise Forward Selection'),\n",
    "            mp.Patch(color='blue', label='Best Subset Selection'),\n",
    "            mp.Patch(color='red', label='Stepwise Transformed Features')])\n",
    "    plt.show()"
   ]
  },
  {
   "cell_type": "code",
   "execution_count": 6,
   "metadata": {},
   "outputs": [
    {
     "name": "stdout",
     "output_type": "stream",
     "text": [
      "1263983.15626\n",
      "running time:  0.16912031173706055\n",
      "subset with least rss: [2, 8, 3, 4, 1, 5, 7, 9, 6, 0]\n",
      "1263983.15626\n",
      "running time:  0.024016141891479492\n",
      "subset with least rss: [2, 8, 3, 10, 27, 6, 1, 18, 15, 17, 13, 9, 48, 42, 46, 47, 4, 53, 23, 51, 20, 40, 39, 19, 16, 34, 37, 22, 41, 28, 33, 43, 36, 0, 26, 12, 54, 44, 7, 31, 14, 50, 5, 29, 49, 32, 30, 52, 24, 21, 25, 38, 35, 45, 11]\n",
      "1088977.51032\n",
      "running time:  0.36686182022094727\n"
     ]
    },
    {
     "data": {
      "image/png": "[encoded data removed]",
      "text/plain": [
       "<matplotlib.figure.Figure at 0x21e72e37358>"
      ]
     },
     "metadata": {},
     "output_type": "display_data"
    }
   ],
   "source": [
    "plot_features()"
   ]
  },
  {
   "cell_type": "code",
   "execution_count": null,
   "metadata": {
    "collapsed": true
   },
   "outputs": [],
   "source": []
  }
 ],
 "metadata": {
  "kernelspec": {
   "display_name": "Python 3",
   "language": "python",
   "name": "python3"
  },
  "language_info": {
   "codemirror_mode": {
    "name": "ipython",
    "version": 3
   },
   "file_extension": ".py",
   "mimetype": "text/x-python",
   "name": "python",
   "nbconvert_exporter": "python",
   "pygments_lexer": "ipython3",
   "version": "3.6.1"
  }
 },
 "nbformat": 4,
 "nbformat_minor": 2
}
